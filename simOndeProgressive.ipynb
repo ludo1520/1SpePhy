{
 "cells": [
  {
   "cell_type": "markdown",
   "metadata": {},
   "source": [
    "# La propagation d'une onde\n",
    "\n",
    "##  Spécialité Physique Chimie de première\n",
    "\n",
    "### Ludovic Gaudichet, lycée René Cassin, Noisiel\n",
    "\n",
    "###\n",
    "\n",
    "Capacités numériques : Représenter un signal périodique et illustrer l’influence de ses caractéristiques (période, amplitude) sur sa représentation. Simuler à l’aide d’un langage de programmation, la propagation d’une onde périodique.\n",
    "\n",
    " Capacité mathématique : Utiliser les représentations graphiques des fonctions sinus et cosinus."
   ]
  },
  {
   "cell_type": "markdown",
   "metadata": {},
   "source": [
    "### Exécuter ligne par ligne : >| ; Redémarrer et exécuter l'ensemble : >>"
   ]
  },
  {
   "cell_type": "code",
   "execution_count": 1,
   "metadata": {},
   "outputs": [],
   "source": [
    "%matplotlib inline\n",
    "\n",
    "from math import *\n",
    "from matplotlib import pyplot"
   ]
  },
  {
   "cell_type": "markdown",
   "metadata": {},
   "source": [
    "### Quelques paramètres du système\n",
    "C'est une corde tendue horizontalement."
   ]
  },
  {
   "cell_type": "code",
   "execution_count": 2,
   "metadata": {},
   "outputs": [],
   "source": [
    "L = 20             # (m) longueur de la corde\n",
    "celerite = 8       # (m.s-1)\n",
    "duree = L/celerite # (s)\n",
    "# |-> temps mis par l'onde pour parcourir toute la corde"
   ]
  },
  {
   "cell_type": "markdown",
   "metadata": {},
   "source": [
    "### Définition de la perturbation\n",
    "grâce à une fonction (du temps) qui donne l'amplitude à un certain temps. Dans le cas d'une corde tendue horizontalement, l'amplitude est en fait la hauteur d'un point de la corde.\n",
    "\n",
    "On va faire simple pour commencer, en imaginant qu'au début, l'extrémité de départ de la corde monte à 1 m, puis ce point descend progressivement à 0 m en 0,1 seconde. La fonction peut s'écrire ainsi :"
   ]
  },
  {
   "cell_type": "code",
   "execution_count": 3,
   "metadata": {},
   "outputs": [],
   "source": [
    "def Perturbation(temps):\n",
    "    # à la position (0,0)\n",
    "    # temps en seconde\n",
    "    # amplitude en mètre\n",
    "\n",
    "    amplitude = 0\n",
    "    if temps>=0 and temps<=0.1 :\n",
    "        amplitude = 1-temps*10\n",
    "    return amplitude"
   ]
  },
  {
   "cell_type": "markdown",
   "metadata": {},
   "source": [
    "### Représentation temporelle de l'onde\n",
    "Comment évolue l'amplitude au point de départ de l'onde (x=0) ? Il s'agit simplement de tracer le graphe en fonction du temps de la fonction précédente."
   ]
  },
  {
   "cell_type": "markdown",
   "metadata": {},
   "source": [
    "D'abord on créé une liste de coordonnées temporelles, puis les amplitudes correspondantes :"
   ]
  },
  {
   "cell_type": "code",
   "execution_count": 4,
   "metadata": {},
   "outputs": [],
   "source": [
    "Np = 200 # nbre de points\n",
    "dt = duree/Np\n",
    "list_t = [] # temps\n",
    "list_a = [] # amplitude\n",
    "\n",
    "for i in range (0,Np-1):\n",
    "    temps = i*dt\n",
    "    list_t.append(temps)\n",
    "    list_a.append( Perturbation(temps) )"
   ]
  },
  {
   "cell_type": "markdown",
   "metadata": {},
   "source": [
    "Puis on trace le graphe :"
   ]
  },
  {
   "cell_type": "code",
   "execution_count": 5,
   "metadata": {},
   "outputs": [
    {
     "data": {
      "text/plain": [
       "[<matplotlib.lines.Line2D at 0x7f5e4eb46ed0>]"
      ]
     },
     "execution_count": 5,
     "metadata": {},
     "output_type": "execute_result"
    },
    {
     "data": {
      "image/png": "[encoded data removed]",
      "text/plain": [
       "<Figure size 432x288 with 1 Axes>"
      ]
     },
     "metadata": {
      "needs_background": "light"
     },
     "output_type": "display_data"
    }
   ],
   "source": [
    "pyplot.close()\n",
    "#fig, ax = pyplot.subplots(1,1,figsize=(6,7))\n",
    "fig, ax = pyplot.subplots(1,1)\n",
    "ax.grid(True)\n",
    "ax.axis([0,duree, -1.5, 2])\n",
    "ax.set_xlabel('temps (s)')\n",
    "ax.set_ylabel('Amplitude (m)')\n",
    "ax.set_title(\"Représentation temporelle en x = 0 m\")\n",
    "ax.plot(list_t, list_a)"
   ]
  },
  {
   "cell_type": "markdown",
   "metadata": {},
   "source": [
    "### Représentation temporelle en un autre point\n",
    "\n",
    "Comment peut-on montrer l'amplitude de la corde en n'importe quel autre point de la corde, en fonction du temps ?\n",
    "On peut considérer qu'en ce point, la perturbation sera la même, mais avec un certain retard, dû au temps de propagation.\n",
    "Il suffit donc d'introduire ce retard quand on utilise la fonction Perturbation() (qui reste la même donc)."
   ]
  },
  {
   "cell_type": "code",
   "execution_count": 6,
   "metadata": {},
   "outputs": [],
   "source": [
    "mon_x = 5.3 # à x m du point de départ de la perturbation\n",
    "retard = mon_x/celerite\n",
    "\n",
    "for i in range (0,Np-1):\n",
    "    temps = i*dt\n",
    "    list_t[i] = temps\n",
    "    list_a[i] = Perturbation(temps-retard)"
   ]
  },
  {
   "cell_type": "markdown",
   "metadata": {},
   "source": [
    "Remarque : Les listes sont déjà créées, on les réutilise.\n",
    "\n",
    "Ensuite on trace le graphe :"
   ]
  },
  {
   "cell_type": "code",
   "execution_count": 7,
   "metadata": {},
   "outputs": [
    {
     "data": {
      "text/plain": [
       "[<matplotlib.lines.Line2D at 0x7f5e4ea81cd0>]"
      ]
     },
     "execution_count": 7,
     "metadata": {},
     "output_type": "execute_result"
    },
    {
     "data": {
      "image/png": "[encoded data removed]",
      "text/plain": [
       "<Figure size 432x288 with 1 Axes>"
      ]
     },
     "metadata": {
      "needs_background": "light"
     },
     "output_type": "display_data"
    }
   ],
   "source": [
    "fig, ax = pyplot.subplots(1,1)\n",
    "ax.grid(True)\n",
    "ax.axis([0,duree, -1.5, 2])\n",
    "ax.set_xlabel('temps (s)')\n",
    "ax.set_ylabel('Amplitude (m)')\n",
    "ax.set_title(\"Représentation temporelle de la perturbation en x=\"\n",
    "        + format(mon_x,'.1f') + \" m\")\n",
    "ax.plot(list_t, list_a)"
   ]
  },
  {
   "cell_type": "markdown",
   "metadata": {},
   "source": [
    "### Représentation spatiale de l'onde\n",
    "\n",
    "Grâce à cette expression Perturbation(temps-retard), on peut maintenant savoir l'amplitude de l'onde, n'importe quand et n'importe où.\n",
    "\n",
    "Cela permet de tracer la représentation spatiale de l'onde, c'est-à-dire son allure si on la prenait en photo à un certain temps.\n",
    "Il suffit de faire une liste de coordonnées (spatiales) et la liste des amplitudes qui correspondent :"
   ]
  },
  {
   "cell_type": "code",
   "execution_count": 8,
   "metadata": {},
   "outputs": [],
   "source": [
    "mon_t = 1.5 # après t secondes\n",
    "\n",
    "list_x = [] # x des points\n",
    "\n",
    "for i in range (0,Np-1):\n",
    "\n",
    "    coord_x = L*i/Np\n",
    "    list_x.append(coord_x)\n",
    "\n",
    "    retard = coord_x/celerite\n",
    "    list_a[i] = Perturbation(mon_t - retard)"
   ]
  },
  {
   "cell_type": "markdown",
   "metadata": {},
   "source": [
    "Ensuite, on trace :"
   ]
  },
  {
   "cell_type": "code",
   "execution_count": 9,
   "metadata": {},
   "outputs": [
    {
     "data": {
      "text/plain": [
       "[<matplotlib.lines.Line2D at 0x7f5e4eaadd50>]"
      ]
     },
     "execution_count": 9,
     "metadata": {},
     "output_type": "execute_result"
    },
    {
     "data": {
      "image/png": "[encoded data removed]",
      "text/plain": [
       "<Figure size 432x288 with 1 Axes>"
      ]
     },
     "metadata": {
      "needs_background": "light"
     },
     "output_type": "display_data"
    }
   ],
   "source": [
    "fig, ax = pyplot.subplots(1,1)\n",
    "ax.grid(True)\n",
    "ax.axis([0,L, -1.5, 2])\n",
    "ax.set_xlabel('x (m)')\n",
    "ax.set_ylabel('Amplitude (m)')\n",
    "ax.set_title(\"Représentation spatiale de la perturbation à t =\"\n",
    "        + format(mon_t,'.1f') + \" s\")\n",
    "ax.plot(list_x, list_a)"
   ]
  },
  {
   "cell_type": "markdown",
   "metadata": {},
   "source": [
    "Je vous laisse méditer très profondément sur pourquoi la représentation spatiale ressemble à la représentation temporelle, mais à l'envers."
   ]
  },
  {
   "cell_type": "markdown",
   "metadata": {},
   "source": [
    "### Perturbation sinusoïdale\n",
    "\n",
    "Imaginons maintenant que la pertubation est sinusoïdale : un opérateur monte et descend la corde périodiquement (apparemment c'est même un sport qui se pratique avec de grosses cordes).\n",
    "Ce mouvement est en fait beaucoup plus simple physiquement que la première perturbation (qui est en fait impossible à vraiment réaliser).\n",
    "La fonction correspondante est la suivante :"
   ]
  },
  {
   "cell_type": "code",
   "execution_count": 10,
   "metadata": {},
   "outputs": [],
   "source": [
    "def PerturbSinus(temps):\n",
    "    # à la position (0,0)\n",
    "    # temps en seconde\n",
    "    # amplitude en mètre\n",
    "\n",
    "    T = 0.5 # période en s\n",
    "    amplitude = 1.*sin(temps*2*pi/T)\n",
    "    \n",
    "    if temps>0.15 and temps<=0.20:\n",
    "        amplitude = 0.6\n",
    "\n",
    "    return amplitude"
   ]
  },
  {
   "cell_type": "markdown",
   "metadata": {},
   "source": [
    "La fonction $sinus(x)$ est utilisée avec la variable :\n",
    "$x = temps \\times {2\\pi \\over T}$\n",
    "\n",
    "$x$ varie alors de $0$ à $2\\pi$ quand le temps varie de $0$ à une période $T$.\n",
    "\n",
    "Cette fonction produit donc bien une amplitude qui varie sinusoïdalement avec une période T.\n",
    "\n",
    "La partie :\n",
    "\n",
    " if temps>0.15 and temps<=0.20:\n",
    "        amplitude = 0.6\n",
    "\n",
    "permet d'introduire un petite distorsion dans la corde pour mieux visualiser la propagation de l'onde. Observons le mouvement de l'extrémité de la corde en fonction du temps :"
   ]
  },
  {
   "cell_type": "code",
   "execution_count": 11,
   "metadata": {},
   "outputs": [
    {
     "data": {
      "text/plain": [
       "[<matplotlib.lines.Line2D at 0x7f5e4e978f10>]"
      ]
     },
     "execution_count": 11,
     "metadata": {},
     "output_type": "execute_result"
    },
    {
     "data": {
      "image/png": "[encoded data removed]",
      "text/plain": [
       "<Figure size 432x288 with 1 Axes>"
      ]
     },
     "metadata": {
      "needs_background": "light"
     },
     "output_type": "display_data"
    }
   ],
   "source": [
    "mon_x = 0 # à x m du point de départ de la perturbation\n",
    "retard = mon_x/celerite\n",
    "\n",
    "for i in range (0,Np-1):\n",
    "    temps = i*dt\n",
    "    list_a[i] = PerturbSinus(temps-retard)\n",
    "    \n",
    "fig, ax = pyplot.subplots(1,1)\n",
    "ax.grid(True)\n",
    "ax.axis([0,duree, -1.5, 2])\n",
    "ax.set_xlabel('temps (s)')\n",
    "ax.set_ylabel('Amplitude (m)')\n",
    "ax.set_title(\"Amplitude de la corde en x=\"\n",
    "        + format(mon_x,'.1f') + \" m\")\n",
    "ax.plot(list_t, list_a)"
   ]
  },
  {
   "cell_type": "markdown",
   "metadata": {},
   "source": [
    "Remplissons la liste des x avec la hauteur des points de la corde quand la perturbation est sinusoïdale, puis affichons la représentation spatiale correspondante."
   ]
  },
  {
   "cell_type": "code",
   "execution_count": 12,
   "metadata": {},
   "outputs": [],
   "source": [
    "mon_t = 0.5 # après t secondes\n",
    "\n",
    "for i in range (0,Np-1):\n",
    "    \n",
    "    coord_x = L*i/Np\n",
    "    retard = coord_x/celerite\n",
    "    list_a[i] = PerturbSinus(mon_t - retard)"
   ]
  },
  {
   "cell_type": "code",
   "execution_count": 13,
   "metadata": {},
   "outputs": [
    {
     "data": {
      "text/plain": [
       "[<matplotlib.lines.Line2D at 0x7f5e4e96d8d0>]"
      ]
     },
     "execution_count": 13,
     "metadata": {},
     "output_type": "execute_result"
    },
    {
     "data": {
      "image/png": "[encoded data removed]",
      "text/plain": [
       "<Figure size 432x288 with 1 Axes>"
      ]
     },
     "metadata": {
      "needs_background": "light"
     },
     "output_type": "display_data"
    }
   ],
   "source": [
    "fig, ax = pyplot.subplots(1,1)\n",
    "ax.grid(True)\n",
    "ax.axis([0,L, -1.5, 2])\n",
    "ax.set_xlabel('x (m)')\n",
    "ax.set_ylabel('Amplitude (m)')\n",
    "ax.set_title(\"Représentation spatiale à t =\"\n",
    "        + format(mon_t,'.1f') + \" s\")\n",
    "ax.plot(list_x, list_a)"
   ]
  },
  {
   "cell_type": "markdown",
   "metadata": {},
   "source": [
    "Comme exercice, vous pouvez changer la valeurs du temps et relancer les deux dernières parties de code. Vérifiez ainsi que cette onde se propage, notamment par le déplacement de la distorsion. Déterminez approximativement la valeur de la célérité grâce à vos essais."
   ]
  },
  {
   "cell_type": "code",
   "execution_count": 1,
   "metadata": {},
   "outputs": [],
   "source": [
    "x =3\n"
   ]
  },
  {
   "cell_type": "code",
   "execution_count": 2,
   "metadata": {},
   "outputs": [
    {
     "name": "stdout",
     "output_type": "stream",
     "text": [
      "3\n"
     ]
    }
   ],
   "source": [
    "print(x)"
   ]
  },
  {
   "cell_type": "code",
   "execution_count": null,
   "metadata": {},
   "outputs": [],
   "source": []
  },
  {
   "cell_type": "code",
   "execution_count": null,
   "metadata": {},
   "outputs": [],
   "source": []
  }
 ],
 "metadata": {
  "kernelspec": {
   "display_name": "Python 3",
   "language": "python",
   "name": "python3"
  },
  "language_info": {
   "codemirror_mode": {
    "name": "ipython",
    "version": 3
   },
   "file_extension": ".py",
   "mimetype": "text/x-python",
   "name": "python",
   "nbconvert_exporter": "python",
   "pygments_lexer": "ipython3",
   "version": "3.8.3"
  }
 },
 "nbformat": 4,
 "nbformat_minor": 2
}
