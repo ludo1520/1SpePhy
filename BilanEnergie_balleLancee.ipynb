{
 "cells": [
  {
   "cell_type": "markdown",
   "metadata": {},
   "source": [
    "# Bilan énergie d'un système en mouvement\n",
    "\n",
    "## 1re Spécialité physique-chimie\n",
    "\n",
    "Capacité numérique : Utiliser un langage de programmation pour effectuer le bilan énergétique d’un système en mouvement.\n",
    "\n",
    "Pour traiter ce point, le code suivant simule la trajectoire d'une balle de tennis lancée en l'air. Il utilise les équations donnant les coordonnées en fonction du temps des points de la trajectoire et la vitesse à chaque point (on néglige les frottements, ces équations seront vues en terminale spé).\n",
    "\n",
    "Le code calcule ensuite l'énergie cinétique, l'énergie potentielle et l'énergie mécanique de la balle, puis les trace ensemble. On vérifie le fait que l'énergie mécanique est constante et que l'énergie cinétique et l'énergie potentielle se convertissent l'une en l'autre.\n",
    "\n",
    "Les calculs sont fait avec trois méthodes différentes, pour vous laisser entrevoir ce qu'on peut trouver dans des extraits de code.\n",
    "\n",
    "Ludovic Gaudichet 2020, licence CC BY-NC-SA, lycée de Noisiel"
   ]
  },
  {
   "cell_type": "code",
   "execution_count": 1,
   "metadata": {},
   "outputs": [],
   "source": [
    "import matplotlib.pyplot as plt\n",
    "import numpy as np\n",
    "from math import *\n",
    "\n",
    "\n",
    "g = 9.81             # accélération pesanteur sur Terre m.s-2\n",
    "m = 0.057            # masse du projectile kg\n",
    "\n",
    "x0,z0   = 0, 0       # position initiale en m\n",
    "Vx0,Vz0 = 2.5, 8.83  # vitesse initiale en m/s\n",
    "Dt = 0.05            # DELTA t : durée entre chaque point (s)\n",
    "nPts = 37            # nombre de points\n"
   ]
  },
  {
   "cell_type": "markdown",
   "metadata": {},
   "source": [
    "### méthode A :\n",
    "Une méthode classique que l'on utiliserait avec n'importe quel language de programmation. Déclarer des listes et les remplir au fur et à mesure dans une boucle, avec des calculs sur des scalaires (simplement des nombres)"
   ]
  },
  {
   "cell_type": "code",
   "execution_count": 2,
   "metadata": {},
   "outputs": [],
   "source": [
    "# création des listes :\n",
    "tA = []\n",
    "xA,zA = [],[]\n",
    "VxA, VzA, VA = [],[],[]\n",
    "EmA, EcA, EppA = [],[],[]\n",
    "\n",
    "temps = 0\n",
    "# calcul des grandeurs pour chaque point\n",
    "for i in range (0,nPts):\n",
    "    tA.append(temps)\n",
    "\n",
    "    # équations de la vitesse et de la trajectoire\n",
    "    # (à voir en terminale spé. physique)\n",
    "    xA.append( x0 + Vx0*temps )\n",
    "    zA.append( z0 + Vz0*temps - g*temps**2/2 )\n",
    "    \n",
    "    # VxA = Vx0 = une constante\n",
    "    VzA.append( Vz0 - g*temps )\n",
    "    VA.append( sqrt( Vx0**2 + VzA[-1]**2) )\n",
    "    \n",
    "    EppA.append( m*g*zA[-1] )\n",
    "    EcA.append( 0.5*m*VA[-1]**2)\n",
    "    EmA.append( EppA[-1]+EcA[-1] )\n",
    "    temps += Dt # temps = temps + Dt\n",
    "\n"
   ]
  },
  {
   "cell_type": "markdown",
   "metadata": {},
   "source": [
    "### méthode B :\n",
    "Avec numpy, qui est une librairie permettant de faire des calculs en une fois sur toutes les valeurs d'un tableau (numpy array).\n",
    "Cela permet de garder en gros la même synthaxe qu'un calcul sur un scalaire et autorise un certain parallelisme, permettant dans certaines conditions des traitements plus rapides."
   ]
  },
  {
   "cell_type": "code",
   "execution_count": 3,
   "metadata": {},
   "outputs": [],
   "source": [
    "tB = np.linspace(0,1.8,nPts)\n",
    "xB = x0 + Vx0*tB\n",
    "zB = z0 + Vz0*tB - (tB**2)*g/2\n",
    "# possible aussi : zB = z0 + Vz0*tB - np.square(tB)*g/2\n",
    "\n",
    "# VxB serait une constante = Vx0, pas besoin de la créer en array\n",
    "VzB = Vz0 - g*tB\n",
    "VB = np.sqrt( Vx0**2 + VzB**2 )\n",
    "\n",
    "EppB = m*g*zB\n",
    "EcB = 0.5*m*VB**2\n",
    "EmB = EppB + EcB"
   ]
  },
  {
   "cell_type": "markdown",
   "metadata": {},
   "source": [
    "### méthode C :\n",
    "Ell utilise une syntaxe particulière de python pour créer des\n",
    "listes. A n'utiliser que ponctuellement ?"
   ]
  },
  {
   "cell_type": "code",
   "execution_count": 4,
   "metadata": {},
   "outputs": [],
   "source": [
    "tC = [Dt*i for i in range(0,nPts)]\n",
    "xC = [x0 + Vx0*temps for temps in tC]\n",
    "zC = [z0 + Vz0*temps - g*temps**2/2 for temps in tC]\n",
    "\n",
    "VC = [ sqrt( Vx0**2 + (Vz0-g*temps)**2 ) for temps in tC]\n",
    "\n",
    "EppC = [m*g*z for z in zC ]\n",
    "EcC = [0.5*m*vit**2 for vit in VC]\n",
    "EmC = [ EppC[i] + EcC[i] for i in range(0,nPts) ]\n",
    "\n",
    "# Attention : à ne pas faire :\n",
    "# EmC = EppC + EcC # car cela ajoute la liste EcC après la liste EppC !"
   ]
  },
  {
   "cell_type": "markdown",
   "metadata": {},
   "source": [
    "### graphe :\n",
    "Les trois méthodes font la même simulation. On trace le résultat d'une\n",
    "simulation :"
   ]
  },
  {
   "cell_type": "code",
   "execution_count": 5,
   "metadata": {
    "scrolled": false
   },
   "outputs": [
    {
     "data": {
      "image/png": "[encoded data removed]",
      "text/plain": [
       "<Figure size 432x288 with 1 Axes>"
      ]
     },
     "metadata": {
      "needs_background": "light"
     },
     "output_type": "display_data"
    }
   ],
   "source": [
    "plt.close()\n",
    "plt.xlabel('t (s)')\n",
    "plt.ylabel('E (J)')\n",
    "\n",
    "plt.plot(tC,EmC,'o--',color='black',ms=5,lw=0.5,label='Em')\n",
    "plt.plot(tC,EcC,'+--',color='red',ms=5,lw=0.5,label='Ec')\n",
    "plt.plot(tC,EppC,'x--',color='blue',ms=5,lw=0.5,label='Epp')\n",
    "\n",
    "plt.grid()\n",
    "plt.tight_layout()\n",
    "plt.legend()\n",
    "plt.show()"
   ]
  },
  {
   "cell_type": "code",
   "execution_count": null,
   "metadata": {},
   "outputs": [],
   "source": []
  }
 ],
 "metadata": {
  "kernelspec": {
   "display_name": "Python 3",
   "language": "python",
   "name": "python3"
  },
  "language_info": {
   "codemirror_mode": {
    "name": "ipython",
    "version": 3
   },
   "file_extension": ".py",
   "mimetype": "text/x-python",
   "name": "python",
   "nbconvert_exporter": "python",
   "pygments_lexer": "ipython3",
   "version": "3.8.3"
  }
 },
 "nbformat": 4,
 "nbformat_minor": 4
}
