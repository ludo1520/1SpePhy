{
 "cells": [
  {
   "cell_type": "markdown",
   "metadata": {},
   "source": [
    "# Spécialité Physique-Chimie de première\n",
    "\n",
    "Ludovic Gaudichet\n",
    "\n",
    "## Un exemple de code répondant au programme :\n",
    "\n",
    "Capacité numérique : Déterminer la composition de l’état final d’un système siège d’une transformation chimique totale à l’aide d’un langage de programmation."
   ]
  },
  {
   "cell_type": "markdown",
   "metadata": {},
   "source": [
    "On consdère la réaction résumée par l'équation :\n",
    "\n",
    "## $coefA \\times A + coefB \\times B \\to coefC \\times C+coefD \\times D$\n",
    "\n",
    "et on donne les valeurs des coefficients stoechiométriques :"
   ]
  },
  {
   "cell_type": "code",
   "execution_count": 1,
   "metadata": {},
   "outputs": [],
   "source": [
    "coefA = 2\n",
    "coefB = 1\n",
    "coefC = 1\n",
    "coefD = 2"
   ]
  },
  {
   "cell_type": "markdown",
   "metadata": {},
   "source": [
    "ainsi que les quantités de matière initiales :"
   ]
  },
  {
   "cell_type": "code",
   "execution_count": 2,
   "metadata": {},
   "outputs": [],
   "source": [
    "n_Ai = 0.50*0.030\n",
    "n_Bi = 1.0e-2*0.010\n",
    "n_Ci =  0\n",
    "n_Di =  0"
   ]
  },
  {
   "cell_type": "markdown",
   "metadata": {},
   "source": [
    "avancement et variation de l'avancement entre deux étapes de la simulation :"
   ]
  },
  {
   "cell_type": "code",
   "execution_count": 3,
   "metadata": {},
   "outputs": [],
   "source": [
    "x = 0 #avancement initial\n",
    "dx = 1e-6 # entre 2 étapes intermédiaires"
   ]
  },
  {
   "cell_type": "markdown",
   "metadata": {},
   "source": [
    "On incrémente l'avancement jusqu'à ce qu'un des réactifs soit totalement consommés :"
   ]
  },
  {
   "cell_type": "code",
   "execution_count": 4,
   "metadata": {},
   "outputs": [
    {
     "name": "stdout",
     "output_type": "stream",
     "text": [
      "1.50e-02 | 1.00e-04 | 0.00e+00 | 0.00e+00\n",
      "1.50e-02 | 9.90e-05 | 1.00e-06 | 2.00e-06\n",
      "1.50e-02 | 9.80e-05 | 2.00e-06 | 4.00e-06\n",
      "1.50e-02 | 9.70e-05 | 3.00e-06 | 6.00e-06\n",
      "1.50e-02 | 9.60e-05 | 4.00e-06 | 8.00e-06\n",
      "1.50e-02 | 9.50e-05 | 5.00e-06 | 1.00e-05\n",
      "1.50e-02 | 9.40e-05 | 6.00e-06 | 1.20e-05\n",
      "1.50e-02 | 9.30e-05 | 7.00e-06 | 1.40e-05\n",
      "1.50e-02 | 9.20e-05 | 8.00e-06 | 1.60e-05\n",
      "1.50e-02 | 9.10e-05 | 9.00e-06 | 1.80e-05\n",
      "1.50e-02 | 9.00e-05 | 1.00e-05 | 2.00e-05\n",
      "1.50e-02 | 8.90e-05 | 1.10e-05 | 2.20e-05\n",
      "1.50e-02 | 8.80e-05 | 1.20e-05 | 2.40e-05\n",
      "1.50e-02 | 8.70e-05 | 1.30e-05 | 2.60e-05\n",
      "1.50e-02 | 8.60e-05 | 1.40e-05 | 2.80e-05\n",
      "1.50e-02 | 8.50e-05 | 1.50e-05 | 3.00e-05\n",
      "1.50e-02 | 8.40e-05 | 1.60e-05 | 3.20e-05\n",
      "1.50e-02 | 8.30e-05 | 1.70e-05 | 3.40e-05\n",
      "1.50e-02 | 8.20e-05 | 1.80e-05 | 3.60e-05\n",
      "1.50e-02 | 8.10e-05 | 1.90e-05 | 3.80e-05\n",
      "1.50e-02 | 8.00e-05 | 2.00e-05 | 4.00e-05\n",
      "1.50e-02 | 7.90e-05 | 2.10e-05 | 4.20e-05\n",
      "1.50e-02 | 7.80e-05 | 2.20e-05 | 4.40e-05\n",
      "1.50e-02 | 7.70e-05 | 2.30e-05 | 4.60e-05\n",
      "1.50e-02 | 7.60e-05 | 2.40e-05 | 4.80e-05\n",
      "1.49e-02 | 7.50e-05 | 2.50e-05 | 5.00e-05\n",
      "1.49e-02 | 7.40e-05 | 2.60e-05 | 5.20e-05\n",
      "1.49e-02 | 7.30e-05 | 2.70e-05 | 5.40e-05\n",
      "1.49e-02 | 7.20e-05 | 2.80e-05 | 5.60e-05\n",
      "1.49e-02 | 7.10e-05 | 2.90e-05 | 5.80e-05\n",
      "1.49e-02 | 7.00e-05 | 3.00e-05 | 6.00e-05\n",
      "1.49e-02 | 6.90e-05 | 3.10e-05 | 6.20e-05\n",
      "1.49e-02 | 6.80e-05 | 3.20e-05 | 6.40e-05\n",
      "1.49e-02 | 6.70e-05 | 3.30e-05 | 6.60e-05\n",
      "1.49e-02 | 6.60e-05 | 3.40e-05 | 6.80e-05\n",
      "1.49e-02 | 6.50e-05 | 3.50e-05 | 7.00e-05\n",
      "1.49e-02 | 6.40e-05 | 3.60e-05 | 7.20e-05\n",
      "1.49e-02 | 6.30e-05 | 3.70e-05 | 7.40e-05\n",
      "1.49e-02 | 6.20e-05 | 3.80e-05 | 7.60e-05\n",
      "1.49e-02 | 6.10e-05 | 3.90e-05 | 7.80e-05\n",
      "1.49e-02 | 6.00e-05 | 4.00e-05 | 8.00e-05\n",
      "1.49e-02 | 5.90e-05 | 4.10e-05 | 8.20e-05\n",
      "1.49e-02 | 5.80e-05 | 4.20e-05 | 8.40e-05\n",
      "1.49e-02 | 5.70e-05 | 4.30e-05 | 8.60e-05\n",
      "1.49e-02 | 5.60e-05 | 4.40e-05 | 8.80e-05\n",
      "1.49e-02 | 5.50e-05 | 4.50e-05 | 9.00e-05\n",
      "1.49e-02 | 5.40e-05 | 4.60e-05 | 9.20e-05\n",
      "1.49e-02 | 5.30e-05 | 4.70e-05 | 9.40e-05\n",
      "1.49e-02 | 5.20e-05 | 4.80e-05 | 9.60e-05\n",
      "1.49e-02 | 5.10e-05 | 4.90e-05 | 9.80e-05\n",
      "1.49e-02 | 5.00e-05 | 5.00e-05 | 1.00e-04\n",
      "1.49e-02 | 4.90e-05 | 5.10e-05 | 1.02e-04\n",
      "1.49e-02 | 4.80e-05 | 5.20e-05 | 1.04e-04\n",
      "1.49e-02 | 4.70e-05 | 5.30e-05 | 1.06e-04\n",
      "1.49e-02 | 4.60e-05 | 5.40e-05 | 1.08e-04\n",
      "1.49e-02 | 4.50e-05 | 5.50e-05 | 1.10e-04\n",
      "1.49e-02 | 4.40e-05 | 5.60e-05 | 1.12e-04\n",
      "1.49e-02 | 4.30e-05 | 5.70e-05 | 1.14e-04\n",
      "1.49e-02 | 4.20e-05 | 5.80e-05 | 1.16e-04\n",
      "1.49e-02 | 4.10e-05 | 5.90e-05 | 1.18e-04\n",
      "1.49e-02 | 4.00e-05 | 6.00e-05 | 1.20e-04\n",
      "1.49e-02 | 3.90e-05 | 6.10e-05 | 1.22e-04\n",
      "1.49e-02 | 3.80e-05 | 6.20e-05 | 1.24e-04\n",
      "1.49e-02 | 3.70e-05 | 6.30e-05 | 1.26e-04\n",
      "1.49e-02 | 3.60e-05 | 6.40e-05 | 1.28e-04\n",
      "1.49e-02 | 3.50e-05 | 6.50e-05 | 1.30e-04\n",
      "1.49e-02 | 3.40e-05 | 6.60e-05 | 1.32e-04\n",
      "1.49e-02 | 3.30e-05 | 6.70e-05 | 1.34e-04\n",
      "1.49e-02 | 3.20e-05 | 6.80e-05 | 1.36e-04\n",
      "1.49e-02 | 3.10e-05 | 6.90e-05 | 1.38e-04\n",
      "1.49e-02 | 3.00e-05 | 7.00e-05 | 1.40e-04\n",
      "1.49e-02 | 2.90e-05 | 7.10e-05 | 1.42e-04\n",
      "1.49e-02 | 2.80e-05 | 7.20e-05 | 1.44e-04\n",
      "1.49e-02 | 2.70e-05 | 7.30e-05 | 1.46e-04\n",
      "1.49e-02 | 2.60e-05 | 7.40e-05 | 1.48e-04\n",
      "1.49e-02 | 2.50e-05 | 7.50e-05 | 1.50e-04\n",
      "1.48e-02 | 2.40e-05 | 7.60e-05 | 1.52e-04\n",
      "1.48e-02 | 2.30e-05 | 7.70e-05 | 1.54e-04\n",
      "1.48e-02 | 2.20e-05 | 7.80e-05 | 1.56e-04\n",
      "1.48e-02 | 2.10e-05 | 7.90e-05 | 1.58e-04\n",
      "1.48e-02 | 2.00e-05 | 8.00e-05 | 1.60e-04\n",
      "1.48e-02 | 1.90e-05 | 8.10e-05 | 1.62e-04\n",
      "1.48e-02 | 1.80e-05 | 8.20e-05 | 1.64e-04\n",
      "1.48e-02 | 1.70e-05 | 8.30e-05 | 1.66e-04\n",
      "1.48e-02 | 1.60e-05 | 8.40e-05 | 1.68e-04\n",
      "1.48e-02 | 1.50e-05 | 8.50e-05 | 1.70e-04\n",
      "1.48e-02 | 1.40e-05 | 8.60e-05 | 1.72e-04\n",
      "1.48e-02 | 1.30e-05 | 8.70e-05 | 1.74e-04\n",
      "1.48e-02 | 1.20e-05 | 8.80e-05 | 1.76e-04\n",
      "1.48e-02 | 1.10e-05 | 8.90e-05 | 1.78e-04\n",
      "1.48e-02 | 1.00e-05 | 9.00e-05 | 1.80e-04\n",
      "1.48e-02 | 9.00e-06 | 9.10e-05 | 1.82e-04\n",
      "1.48e-02 | 8.00e-06 | 9.20e-05 | 1.84e-04\n",
      "1.48e-02 | 7.00e-06 | 9.30e-05 | 1.86e-04\n",
      "1.48e-02 | 6.00e-06 | 9.40e-05 | 1.88e-04\n",
      "1.48e-02 | 5.00e-06 | 9.50e-05 | 1.90e-04\n",
      "1.48e-02 | 4.00e-06 | 9.60e-05 | 1.92e-04\n",
      "1.48e-02 | 3.00e-06 | 9.70e-05 | 1.94e-04\n",
      "1.48e-02 | 2.00e-06 | 9.80e-05 | 1.96e-04\n",
      "1.48e-02 | 1.00e-06 | 9.90e-05 | 1.98e-04\n",
      "1.48e-02 | 1.90e-19 | 1.00e-04 | 2.00e-04\n"
     ]
    }
   ],
   "source": [
    "x = 0  #avancement initial\n",
    "n_A = n_Ai\n",
    "n_B = n_Bi\n",
    "n_C = n_Ci\n",
    "n_D = n_Di\n",
    "\n",
    "while n_A>0 and n_B>0 :\n",
    "\n",
    "    print(\"%.2e\"%n_A, '|',\n",
    "    \"%.2e\"%n_B,'|', \"%.2e\"%n_C,'|',\n",
    "    \"%.2e\"%n_D)\n",
    "    x += dx\n",
    "    n_A = n_Ai - coefA*x\n",
    "    n_B = n_Bi - coefB*x\n",
    "    n_C = n_Ci + coefC*x\n",
    "    n_D = n_Di + coefD*x"
   ]
  },
  {
   "cell_type": "code",
   "execution_count": 5,
   "metadata": {},
   "outputs": [
    {
     "name": "stdout",
     "output_type": "stream",
     "text": [
      "On en déduit un encadrement de l'avancement maximal de la réaction\n",
      "1.00e-04 < xmax < 1.01e-04\n"
     ]
    }
   ],
   "source": [
    "print(\"On en déduit un encadrement de l'avancement maximal de la réaction\")\n",
    "print(\"%.2e\"%(x-dx),\"< xmax <\",\n",
    "\"%.2e\"%x)"
   ]
  },
  {
   "cell_type": "code",
   "execution_count": null,
   "metadata": {},
   "outputs": [],
   "source": []
  }
 ],
 "metadata": {
  "kernelspec": {
   "display_name": "Python 3",
   "language": "python",
   "name": "python3"
  },
  "language_info": {
   "codemirror_mode": {
    "name": "ipython",
    "version": 3
   },
   "file_extension": ".py",
   "mimetype": "text/x-python",
   "name": "python",
   "nbconvert_exporter": "python",
   "pygments_lexer": "ipython3",
   "version": "3.7.6"
  }
 },
 "nbformat": 4,
 "nbformat_minor": 2
}
